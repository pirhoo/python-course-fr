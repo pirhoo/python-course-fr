{
 "cells": [
  {
   "cell_type": "code",
   "execution_count": 13,
   "metadata": {},
   "outputs": [
    {
     "name": "stdout",
     "output_type": "stream",
     "text": [
      "À Ale le taux de chomage entre 2009 et 2014 à évolué de -11%\n",
      "À Alingsås le taux de chomage entre 2009 et 2014 à évolué de 5%\n",
      "À Alvesta le taux de chomage entre 2009 et 2014 à évolué de 89%\n",
      "À Aneby le taux de chomage entre 2009 et 2014 à évolué de 27%\n",
      "À Arboga le taux de chomage entre 2009 et 2014 à évolué de 45%\n",
      "À Arjeplog le taux de chomage entre 2009 et 2014 à évolué de -8%\n",
      "À Arvidsjaur le taux de chomage entre 2009 et 2014 à évolué de -1%\n",
      "À Arvika le taux de chomage entre 2009 et 2014 à évolué de -1%\n",
      "À Askersund le taux de chomage entre 2009 et 2014 à évolué de -4%\n",
      "À Avesta le taux de chomage entre 2009 et 2014 à évolué de 40%\n",
      "À Bengtsfors le taux de chomage entre 2009 et 2014 à évolué de 4%\n",
      "À Berg le taux de chomage entre 2009 et 2014 à évolué de 14%\n",
      "À Bjurholm le taux de chomage entre 2009 et 2014 à évolué de 61%\n",
      "À Bjuv le taux de chomage entre 2009 et 2014 à évolué de 17%\n",
      "À Boden le taux de chomage entre 2009 et 2014 à évolué de 16%\n"
     ]
    }
   ],
   "source": [
    "# %load 13_for_loops.py\n",
    "\n",
    "data = [\n",
    "    {\n",
    "        \"municipality\": \"Ale\",\n",
    "        \"unemployment_2009\": 5.5,\n",
    "        \"unemployment_2014\": 4.9\n",
    "    },\n",
    "    {\n",
    "        \"municipality\": \"Alingsås\",\n",
    "        \"unemployment_2009\": 5.7,\n",
    "        \"unemployment_2014\": 6.0\n",
    "    },\n",
    "    {\n",
    "        \"municipality\": \"Alvesta\",\n",
    "        \"unemployment_2009\": 4.7,\n",
    "        \"unemployment_2014\": 8.9\n",
    "    },\n",
    "    {\n",
    "        \"municipality\": \"Aneby\",\n",
    "        \"unemployment_2009\": 4.9,\n",
    "        \"unemployment_2014\": 6.2\n",
    "    },\n",
    "    {\n",
    "        \"municipality\": \"Arboga\",\n",
    "        \"unemployment_2009\": 6.5,\n",
    "        \"unemployment_2014\": 9.4\n",
    "    },\n",
    "    {\n",
    "        \"municipality\": \"Arjeplog\",\n",
    "        \"unemployment_2009\": 6.1,\n",
    "        \"unemployment_2014\": 5.6\n",
    "    },\n",
    "    {\n",
    "        \"municipality\": \"Arvidsjaur\",\n",
    "        \"unemployment_2009\": 7.8,\n",
    "        \"unemployment_2014\": 7.7\n",
    "    },\n",
    "    {\n",
    "        \"municipality\": \"Arvika\",\n",
    "        \"unemployment_2009\": 7.0,\n",
    "        \"unemployment_2014\": 6.9\n",
    "    },\n",
    "    {\n",
    "        \"municipality\": \"Askersund\",\n",
    "        \"unemployment_2009\": 5.7,\n",
    "        \"unemployment_2014\": 5.5\n",
    "    },\n",
    "    {\n",
    "        \"municipality\": \"Avesta\",\n",
    "        \"unemployment_2009\": 5.8,\n",
    "        \"unemployment_2014\": 8.1\n",
    "    },\n",
    "    {\n",
    "        \"municipality\": \"Bengtsfors\",\n",
    "        \"unemployment_2009\": 8.0,\n",
    "        \"unemployment_2014\": 8.3\n",
    "    },\n",
    "    {\n",
    "        \"municipality\": \"Berg\",\n",
    "        \"unemployment_2009\": 6.4,\n",
    "        \"unemployment_2014\": 7.3\n",
    "    },\n",
    "    {\n",
    "        \"municipality\": \"Bjurholm\",\n",
    "        \"unemployment_2009\": 5.7,\n",
    "        \"unemployment_2014\": 9.2\n",
    "    },\n",
    "    {\n",
    "        \"municipality\": \"Bjuv\",\n",
    "        \"unemployment_2009\": 7.0,\n",
    "        \"unemployment_2014\": 8.2\n",
    "    },\n",
    "    {\n",
    "        \"municipality\": \"Boden\",\n",
    "        \"unemployment_2009\": 6.7,\n",
    "        \"unemployment_2014\": 7.8\n",
    "    }\n",
    "]\n",
    "\n",
    "\"\"\"\n",
    "Tâches: parcourir cette liste de villes et afficher leur nom\n",
    "et l'évolution de leur taux de chômage entre 2009 et 2014.\n",
    "\"\"\"\n",
    "\n",
    "for row in data:\n",
    "    rate = (row['unemployment_2014'] - row['unemployment_2009']) / row['unemployment_2009']\n",
    "    print(\"À %s le taux de chomage entre 2009 et 2014 à évolué de %s%%\" % (row['municipality'], round(rate * 100)))\n"
   ]
  },
  {
   "cell_type": "code",
   "execution_count": 14,
   "metadata": {},
   "outputs": [
    {
     "data": {
      "text/plain": [
       "12"
      ]
     },
     "execution_count": 14,
     "metadata": {},
     "output_type": "execute_result"
    }
   ],
   "source": [
    "round(12.2345678)"
   ]
  },
  {
   "cell_type": "code",
   "execution_count": 15,
   "metadata": {},
   "outputs": [
    {
     "data": {
      "text/plain": [
       "12.23"
      ]
     },
     "execution_count": 15,
     "metadata": {},
     "output_type": "execute_result"
    }
   ],
   "source": [
    "round(12.2345678, 2)"
   ]
  },
  {
   "cell_type": "code",
   "execution_count": null,
   "metadata": {
    "collapsed": true
   },
   "outputs": [],
   "source": []
  }
 ],
 "metadata": {
  "kernelspec": {
   "display_name": "Python 3",
   "language": "python",
   "name": "python3"
  },
  "language_info": {
   "codemirror_mode": {
    "name": "ipython",
    "version": 3
   },
   "file_extension": ".py",
   "mimetype": "text/x-python",
   "name": "python",
   "nbconvert_exporter": "python",
   "pygments_lexer": "ipython3",
   "version": "3.6.3"
  }
 },
 "nbformat": 4,
 "nbformat_minor": 2
}
