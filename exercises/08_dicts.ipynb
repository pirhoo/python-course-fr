{
 "cells": [
  {
   "cell_type": "code",
   "execution_count": null,
   "metadata": {
    "collapsed": true
   },
   "outputs": [],
   "source": [
    "# %load 08_dicts.py\n",
    "\n",
    "stockholm = {\n",
    "    'unemployment_2009': 4.0,\n",
    "    'unemployment_2014': 5.1\n",
    "}\n",
    "\n",
    "solna = {\n",
    "    'unemployment_2009': 2.7,\n",
    "    'unemployment_2014': 4.1\n",
    "}\n",
    "\n",
    "\n",
    "\"\"\" De combien de pourcent le chomage a augmenté à Stockholm ? \"\"\"\n",
    "# Code here!\n",
    "\n",
    "\n",
    "\"\"\" De combien de pourcent le chomage a augmenté à Solna ? \"\"\"\n",
    "# Code here!\n",
    "\n",
    "\n",
    "\"\"\" De combien de points le chomage est plus élevé à Stockholm  qu'à Solna en 2014 ? \"\"\"\n",
    "# Code here!\n"
   ]
  },
  {
   "cell_type": "code",
   "execution_count": null,
   "metadata": {
    "collapsed": true
   },
   "outputs": [],
   "source": []
  }
 ],
 "metadata": {
  "kernelspec": {
   "display_name": "Python 3",
   "language": "python",
   "name": "python3"
  },
  "language_info": {
   "codemirror_mode": {
    "name": "ipython",
    "version": 3
   },
   "file_extension": ".py",
   "mimetype": "text/x-python",
   "name": "python",
   "nbconvert_exporter": "python",
   "pygments_lexer": "ipython3",
   "version": "3.6.3"
  }
 },
 "nbformat": 4,
 "nbformat_minor": 2
}
