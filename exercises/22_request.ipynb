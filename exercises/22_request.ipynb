{
 "cells": [
  {
   "cell_type": "code",
   "execution_count": 6,
   "metadata": {},
   "outputs": [
    {
     "name": "stdout",
     "output_type": "stream",
     "text": [
      "b'<Response>\\n\\t<IP>212.95.74.42</IP>\\n\\t<CountryCode>FR</CountryCode>\\n\\t<CountryName>France</CountryName>\\n\\t<RegionCode>GES</RegionCode>\\n\\t<RegionName>Grand-Est</RegionName>\\n\\t<City>Strasbourg</City>\\n\\t<ZipCode>67000</ZipCode>\\n\\t<TimeZone>Europe/Paris</TimeZone>\\n\\t<Latitude>48.5839</Latitude>\\n\\t<Longitude>7.7455</Longitude>\\n\\t<MetroCode>0</MetroCode>\\n</Response>\\n'\n"
     ]
    }
   ],
   "source": [
    "# %load 22_request.py\n",
    "\n",
    "from urllib import request\n",
    "# L'URL pour trouver le pays correspondant à une ip ou un nom de domaine\n",
    "infourl = 'http://freegeoip.net/xml/lefigaro.fr'\n",
    "\n",
    "# On ouvre l'URL et on stock le resultat dans response\n",
    "response = request.urlopen(infourl)\n",
    "# Pour lire le contenu de la page, on utilise 'read()'\n",
    "xml = response.read()\n",
    "\n",
    "print(xml)"
   ]
  },
  {
   "cell_type": "code",
   "execution_count": null,
   "metadata": {
    "collapsed": true
   },
   "outputs": [],
   "source": []
  }
 ],
 "metadata": {
  "kernelspec": {
   "display_name": "Python 3",
   "language": "python",
   "name": "python3"
  },
  "language_info": {
   "codemirror_mode": {
    "name": "ipython",
    "version": 3
   },
   "file_extension": ".py",
   "mimetype": "text/x-python",
   "name": "python",
   "nbconvert_exporter": "python",
   "pygments_lexer": "ipython3",
   "version": "3.6.3"
  }
 },
 "nbformat": 4,
 "nbformat_minor": 2
}
