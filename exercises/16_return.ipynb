{
 "cells": [
  {
   "cell_type": "code",
   "execution_count": null,
   "metadata": {
    "collapsed": true
   },
   "outputs": [],
   "source": [
    "# %load 16_return.py\n",
    "\n",
    "\"\"\"\n",
    "Tâches: faire une fonction qui calcule l'augmentation ou la diminution\n",
    "du taux chômage entre les deux années.\n",
    "\"\"\"\n",
    "\n",
    "\n",
    "def get_change(unemployment_now, unemployment_then):\n",
    "    # Codez votre fonction ici\n",
    "    return 0\n",
    "\n",
    "data = [\n",
    "    {\n",
    "        \"municipality\": \"Ale\",\n",
    "        \"unemployment_2009\": 5.5,\n",
    "        \"unemployment_2014\": 4.9\n",
    "    },\n",
    "    {\n",
    "        \"municipality\": \"Alingsås\",\n",
    "        \"unemployment_2009\": 5.7,\n",
    "        \"unemployment_2014\": 6.0\n",
    "    },\n",
    "    {\n",
    "        \"municipality\": \"Alvesta\",\n",
    "        \"unemployment_2009\": 4.7,\n",
    "        \"unemployment_2014\": 8.9\n",
    "    }\n",
    "]\n",
    "\n",
    "# Stock les valeurs de deux villes dans la liste (la première et la dernière)\n",
    "ale = data[0]\n",
    "alvesta = data[2]\n",
    "# Affiche ces valeurs\n",
    "print(ale)\n",
    "print(alvesta)\n",
    "\n",
    "print(get_change(ale[\"unemployment_2014\"], ale[\"unemployment_2009\"]))\n",
    "print(get_change(alvesta[\"unemployment_2014\"], ale[\"unemployment_2009\"]))\n"
   ]
  },
  {
   "cell_type": "code",
   "execution_count": null,
   "metadata": {
    "collapsed": true
   },
   "outputs": [],
   "source": []
  }
 ],
 "metadata": {
  "kernelspec": {
   "display_name": "Python 3",
   "language": "python",
   "name": "python3"
  },
  "language_info": {
   "codemirror_mode": {
    "name": "ipython",
    "version": 3
   },
   "file_extension": ".py",
   "mimetype": "text/x-python",
   "name": "python",
   "nbconvert_exporter": "python",
   "pygments_lexer": "ipython3",
   "version": "3.6.3"
  }
 },
 "nbformat": 4,
 "nbformat_minor": 2
}
