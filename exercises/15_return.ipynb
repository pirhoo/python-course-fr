{
 "cells": [
  {
   "cell_type": "code",
   "execution_count": 4,
   "metadata": {},
   "outputs": [
    {
     "name": "stdout",
     "output_type": "stream",
     "text": [
      "faible\n",
      "élevé\n",
      "élevé\n",
      "moyen\n",
      "faible\n"
     ]
    }
   ],
   "source": [
    "# %load 15_return.py\n",
    "\n",
    "\"\"\"\n",
    "Tâches: faire une fonction qui prend un pourcentage de chômage et retorune une\n",
    "catégrie comme \"faible\", \"moyen\" ou \"élevé\" à l'aide d'une condition IF.\n",
    "\"\"\"\n",
    "\n",
    "\n",
    "def categorize_unemployment(unemployment):\n",
    "    if unemployment < 5.0:\n",
    "        return \"faible\"\n",
    "    elif unemployment < 7:\n",
    "        return \"moyen\"\n",
    "    else:\n",
    "        return \"élevé\"\n",
    "    \n",
    "\n",
    "print(categorize_unemployment(1.2))\n",
    "print(categorize_unemployment(10.3))\n",
    "print(categorize_unemployment(7.8))\n",
    "print(categorize_unemployment(5.6))\n",
    "print(categorize_unemployment(2.1))\n"
   ]
  },
  {
   "cell_type": "code",
   "execution_count": null,
   "metadata": {
    "collapsed": true
   },
   "outputs": [],
   "source": []
  }
 ],
 "metadata": {
  "kernelspec": {
   "display_name": "Python 3",
   "language": "python",
   "name": "python3"
  },
  "language_info": {
   "codemirror_mode": {
    "name": "ipython",
    "version": 3
   },
   "file_extension": ".py",
   "mimetype": "text/x-python",
   "name": "python",
   "nbconvert_exporter": "python",
   "pygments_lexer": "ipython3",
   "version": "3.6.3"
  }
 },
 "nbformat": 4,
 "nbformat_minor": 2
}
