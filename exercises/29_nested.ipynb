{
 "cells": [
  {
   "cell_type": "code",
   "execution_count": 6,
   "metadata": {
    "scrolled": false
   },
   "outputs": [
    {
     "name": "stdout",
     "output_type": "stream",
     "text": [
      "Téléchargement de http://www.leboncoin.fr/jeux_jouets/1354755360.htm?ca=12_s\n",
      "Moto 3/1 en tres bonne état 20€Vélo minnie 15€Poussette trotteur aide à la marche 15€Tous est en très bonne état\n",
      "Téléchargement de http://www.leboncoin.fr/velos/1354755263.htm?ca=12_s\n",
      "Vélo d'appartement Décathlon DomyosConsole 4 fonctions : calorie, distance, durée, vitesseSelle en mousseDimensions : L 87 cm l 48 cm H 121 cmTrès bon état\n",
      "Téléchargement de http://www.leboncoin.fr/sports_hobbies/1354755142.htm?ca=12_s\n",
      "Vélo Décathlon d'appartement Domyos vm130, très bon état, très peu serviConsole 4 fonctions (calories, distance, temps, vitesse) Informations TechniquesPOIDS ET DIMENSIONSDim. Produit L.87 x l.48 x H.121 cm Poids produit 20 kg Dim. Carton L.73 x l.25 x H.55 cm Poids total 24 kgLES BIENFAITS DU VELO D'APPARTEMENTC’est une activité complète permettant : - Le développement de l’ENDURANCE - La TONIFICATION des muscles du bas du corps Pour entretenir sa forme, l'OMS recommande de pratiquer cette activité de façon régulière et modérée (légère transpiration, on doit pouvoir tenir une conversation) : 22 min/jour Pour perdre du poids et particulièrement réduire la masse grasse, l'OMS recommande de pratiquer cette activité également de façon régulière et modérée, mais plus longtemps : 44 min/jourROUE D'INERTIE ET FLUIDITE DE PEDALAGELa roue d'inertie du vélo d'appartement influe sur la fluidité de pédalage. Plus le poids de la roue est important, plus votre pédalage sera fluide et donc, plus votre entrainement sera agréable.LA CONSOLE, VOTRE COACH VIRTUELLa console du vélo d'appartement VM 130 comporte de 4 fonctions : calories brûlées, distance parcourue, temps de l'entrainement et vitesse. Elles vous permettent de vous accompagner vers vos objectifs et de mesurer votre entrainement.CONSEILS POUR BIEN REGLER VOTRE VELOIl est important de bien régler la hauteur de selle pour s'assurer une bonne position de pédalage. Positionnez vous debout à coté du vélo et réglez la la selle de manière à ce qu'elle soit à hauteur de hanche.CONSEILS POUR REGLER LA STABILITE DE VOTRE VELOAfin d'optimiser votre confort, nous préconisons de positionner votre vélo sur des dalles de sol spécifiques (Dalles DF 920). Ces dalles mousses vont permettre : d'optimiser la stabilité du vélo en usage, de réduire les vibrations et le bruit, et de protéger votre sol.Les vélos d'appartement Domyos disposent de 2 stabilisateurs de niveaux sur le pied arrière pour assurer une parfaite stabilité lors de vos entraînements quel que soit le revêtement de votre sol.CONSEILS POUR DEPLACER VOTRE VELOVotre vélo d'appartement est équipé de roulettes de déplacement intégrées à l'avant. Pour le déplacer, positionnez-vous face au vélo. Utiliser un pied pour bloquer le vélo et appuyer sur le guidon pour basculer celui-ci sur les roulettes. Déplacez-le ensuite doucement dans la direction voulue.SES CARACTERISTIQUESUtilisation occasionnelle, 3h/semaineRoue d'inertie3 kgObjectif : entretenir sa formeJe ne sais pas si tout marche d'où le prix.COMPOSITIONCadre // Chassis (pour les rollers) : 100.0% Acier Bouchon : 100.0% Polyamide recycléCONSEIL DE STOCKAGENe pas laisser dans un endroit humide, ne pas stocker à l'extérieur.CONSEIL ENTRETIENVérifier régulièrement le bon serrage des vis et boulons, nettoyer après chaque séance les traces de transpiration sur votre produit, dépoussiérer régulièrement à l'aide d'un chiffon doux.\n",
      "Téléchargement de http://www.leboncoin.fr/velos/1354753176.htm?ca=12_s\n",
      "Vélo de course homme8 vitesses (2 x 4)Cadre anglais taille 56Couleur vert métallisé vernis.roues 69013 kg\n",
      "Téléchargement de http://www.leboncoin.fr/velos/1354753082.htm?ca=12_s\n",
      "Vend vtc B'twin seven 7 en cadre alu tout suspendu.- cadre alu taille M (1,60-1,75 m) 28 pouces- 21 vitesses (3 plateaux et 7 pignons)- fourche avant réglable télescopique et suspension centrale- garde boue avant et arrière- selle gel confort sans accroc- Jante double paroi avec des pneus cramponnés- bel état cosmétique (cadre et pneus) et bon fonctionnement (vitesses et freins).- transmission SRAM et manette.- accessoire : panier, béquille, clochette.Prix : 240 eurosTrès bon état, révision déjà faite, prêt à rouler.tant que l'annonce est visible ,le vélo est disponible\n",
      "Téléchargement de http://www.leboncoin.fr/velos/1354752785.htm?ca=12_s\n",
      "Vélo pliant très léger, bon étatTrès belle fabrication provenance Angleterre idem DahonVitesses dans moyeu NexusPour cycliste taille 150 à 180Vendu avec housse d'origine pour transport facile\n",
      "Téléchargement de http://www.leboncoin.fr/velos/1320195554.htm?ca=12_s\n",
      "Bonjour, Nous vendons une draisienne btwin rose en très bon état.Vélo sans pédalesConsiste à apprendre l,équilibre à vélo pour les enfants de 2 à 4 ans. Léger. Selle et guidon réglables\n",
      "Téléchargement de http://www.leboncoin.fr/velos/1354751787.htm?ca=12_s\n",
      "Plusieurs maillots de vélo neufs ou presque.Plusieurs tailles et coloris disponibles.Prix négociable si lots achetés20 euros = prix à l'unité\n",
      "Téléchargement de http://www.leboncoin.fr/velos/1354751786.htm?ca=12_s\n",
      "Vélo de Route Bianchi Via Nirone | Taille SmallCouleur Gris | NoirFourche CarboneTrès bien entretenu | État Très Bon | Quasi Neuf\n",
      "Téléchargement de http://www.leboncoin.fr/velos/1354751705.htm?ca=12_s\n",
      "Guidon de piste Nitto modèle B125AA (aluminium), finition excellente comme toujours chez Nitto.Largeur 40cm, serrage 25.4mm.En excellent état visuel et fonctionnel, quelques micro traces sur le serrage qui disparaissent sous la potence.Prix neuf : autour de 100€ selon les sites.Visible en journée à Paris 11, en soirée à Paris 20. Livraison possible en mondial relay (+4.5€) ou colissimo (+6€).Paiement par paypal ou virement bancaire uniquement, sauf si remise en mains propres.Tapez [roamdam] pour mes autres annonces de pièces de vélo.\n",
      "Téléchargement de http://www.leboncoin.fr/velos/1320472831.htm?ca=12_s\n",
      "VEND VELO DE COURSE HOMME\n",
      "Téléchargement de http://www.leboncoin.fr/velos/1354750474.htm?ca=12_s\n",
      "Velo des années 803 vitesses dans le moyeu pas de dérailleur Pour cycliste taille 160 jusqu'à 180Bon état, très bonne qualité d'origineVendu avec 2 sacoches\n",
      "Téléchargement de http://www.leboncoin.fr/velos/1354749751.htm?ca=12_s\n",
      "BonjourJe vends de nombreux stickers pour vtt et véloc'est stickers sont parfait pour le cadre la fourche est les roues de votre vtt ou vélo.veuillez me contacter par mail pour je vous passe un lien pour voir mes stickersje vends par numéro de planche pour 3€.5€,7€ et 10€j'ai 235 de numéros de planches avec des stickersPROMO si vous prenez 2 numéros de planches a 5€ la 3éme planches offerte donc pour 10€ 3 numéros de planchesSportivement\n",
      "Téléchargement de http://www.leboncoin.fr/velos/1354748764.htm?ca=12_s\n",
      "BonjourJe vends de nombreux stickers pour vtt et véloc'est stickers sont parfait pour le cadre la fourche est les roues de votre vtt ou vélo.veuillez me contacter par mail pour je vous passe un lien pour voir mes stickersje vends par numéro de planche pour 3€.5€,7€ et 10€j'ai 235 de numéros de planches avec des stickersPROMO si vous prenez 2 numéros de planches a 5€ la 3éme planches offerte donc pour 10€ 3 numéros de planchesSportivement\n",
      "Téléchargement de http://www.leboncoin.fr/velos/1354748000.htm?ca=12_s\n",
      "Modèle Twist Express RS1Taille MVendu avec 2 batteries (9ah) et 2 chargeursDouble des clésAutonomie environ 40 km par batterie en assistance intermédiaireFreins hydrauliques MaguraModèle 2011Vélo en très bon état\n",
      "Téléchargement de http://www.leboncoin.fr/sports_hobbies/1354748289.htm?ca=12_s\n",
      "!! ANNONCE en LIGNE = DISPONIBLE !!vente à l'unité ou en lot de 21 balles de tennis pour débutant0,50€ la balle, ou 2€ les 5, ou 8€ les 21 ballesTapez \"TROC91\" dans leboncoin pour voir mes autres annonces (tennis, vélo, ski...)\n",
      "Téléchargement de http://www.leboncoin.fr/velos/1354747820.htm?ca=12_s\n",
      "Excellent vélo pour la compétition et l entraînement, très bien entretenu.Idéal jusqu'à 1m60.Caractéristiques en photo jointe\n",
      "Téléchargement de http://www.leboncoin.fr/velos/1354746685.htm?ca=12_s\n",
      "Je vend un vélo en état.3 vitesses et frein.prix: 35 €tél. 06 28 35 00 94\n",
      "Téléchargement de http://www.leboncoin.fr/velos/1354746834.htm?ca=12_s\n",
      "A vendre Vtt btwin 5.0 de chez decathlon. Mécanique niquel, les freins ont été remplacés récement, les vitesses se changent avec une manette et non en tournant la poignée (e vélo dors à l'intérieur). Seul petit accro sur la selle qui est un peu usé. Vendu avec pompe et antivol. Prix 60e\n",
      "Téléchargement de http://www.leboncoin.fr/sports_hobbies/1354746289.htm?ca=12_s\n"
     ]
    },
    {
     "name": "stdout",
     "output_type": "stream",
     "text": [
      "bonjour je vends de nombreux stickers de vélo et vtt de toute marquesj'ai environ 2000 stickers de vtt et vélovoici ce que j'ai comme marqueslapierre , sigma , fizik,kmc,gopro,petzl,victoria,xlc,bbb,fsa,vision,scott,northwave,sbb,wellgo,gravity,wtb,oldo,ktm,animal,ktm,sunnbmc,camelbak,bbbcyling,magura,zesty,geax,kona,sr suntour,lazer,selle italiakenda,maxiscoot,schmolke,stevens,assos,stronglight, bergamont,canyonschwalbe,formula,fulcrum,rose,sram,haibike,time,thule,pearl lzumishimano,smp,cube,parktool,truvativ,rockshox,avid,camelbeak,assosendura,felt,michelin,continental,bmc, osprey , flyracing,evocc'est stickers sont parfait pour le cadre la fourche est les roues de votre vtt ou vélo.veuillez me contacter par mail pour je vous passe un lien pour voir mes stickersje vends par numéro de planche pour 3€.5€,7€ et 10€j'ai 239 de numéros de planches avec des stickersPROMO si vous prenez 2 numéros de planches a 5€ la 3éme planches offerte donc pour 10€ 3 planchesSportivement\n",
      "Téléchargement de http://www.leboncoin.fr/velos/1354745818.htm?ca=12_s\n",
      "Bonjour Je vends vélo d,appartement maison CS capitale sports Informations générales sur le produitMarque  CAPITAL SPORTSNom du produit CAPITAL SPORTS Azura X2 - Vélo d'appartement sport pliable cardio et fitness (8 niveaux, ordinateur, supporte jusqu'à 120kg) - blancDébattre Limite raisonnable!Je suis sourds muet répond moi sur sms 0624612501 merci cordialement\n",
      "Téléchargement de http://www.leboncoin.fr/velos/1354745692.htm?ca=12_s\n",
      "Bon en bon état  marche très bien a venir chercher sur place merci\n",
      "Téléchargement de http://www.leboncoin.fr/jeux_jouets/1354745116.htm?ca=12_s\n",
      "CONTACTE PAR TEL ou SMS DE PREFERENCEAU 06 81 26 99 13Je suis disponible pour répondre et rappeler-VELO TRICYCLE COLLECTION SMART TRIKEUTILISATION DES 2ans et +++, MODELE MIXTEHARNAIS, CEINTURE DE SECURITESIEGE REGLABLE D'AVANT EN ARRIERESTRUCTURE EN ACIERBLOCAGE DE DIRECTIONBENNE BASCULANTE POUR PROMENER DOUDOUCANNE DIRECTIONNELLE PARENTALE AMOVIBLEEXCELLENT ETAT DE FONCTIONNEMENTIMPECCABLE ET PROPRECEDE A 12€mes autres ventes, taper: vg92 dans la barre de recherchepuis cliquer: chercherREMISE : -proche du TRAM T2 station Suresnes-Longchamp-proche de la gare SNCF station Suresnes Mont Valérien-proche du pont de SuresnesSI ANNONCE VISIBLE, produit DISPONIBLEMots clés: smoby berchet aubert oxybul toys R Us\n",
      "Téléchargement de http://www.leboncoin.fr/jeux_jouets/1354745022.htm?ca=12_s\n",
      "En très bon état. Faites plaisir à votre bébé pour Noël. Favorise l'équilibre. Remise en mains propres. Espèces.\n",
      "Téléchargement de http://www.leboncoin.fr/velos/1354744984.htm?ca=12_s\n",
      "Description :Vend vélo elliptique très bonétat.Compteur 8 Niveaux 6 Fonctions capteurs tactilesRésistance Magnétique Console (nb de fenêtres) 1Prise pulsation cardiaque Capteurs tactilesLongueur 115 cmLargeur 50 cmHauteur 161 cmPoids 32,9 kgRÉSISTANCE : Freinage magnétique à réglermanuellement sur 8 niveaux avec la molette sous leguidon fixe. Effective de 6 kg pour une très bonnefluidité de pédalage. CONSOLE : Un large écran LCD (12,5 x 6 cm) permet desuivre facilement l’évolution de votreentraînement : - TEMPS : Exprimée en minute, elle indiquela durée de votre entraînement, - DISTANCE : Exprimée en kilomètres,elle indique la distance parcourue durant votreentraînement, - VITESSE : Affiche votre vitesse en Km/h - RPM : Exprimée en tours par minute, elleindique votre vitesse de pédalage, - CALORIES: Exprimée en Kilojoules, elleindique la quantité totale estiméede calories brûlées par votre corpsdurant l’exercice, - FRÉQUENCE CARDIAQUE : Exprimée enBattements par minute, elle indique votre pouls.Les valeurs estimées sont comprises entre60 à 220 BPM (battements par minute). CONFORT : - Larges pédales anti-dérapantes. - Compensateurs de niveaux pour une grandestabilité. - Fonctionne avec 2 piles de type AA (compteur) ! Valeur 499 eurosTélé 07670524650603905704\n",
      "Téléchargement de http://www.leboncoin.fr/velos/1354744875.htm?ca=12_s\n",
      "bonjour je vends de nombreux stickers de vélo et vtt de toute marquesj'ai environ 2000 stickers de vtt et vélovoici ce que j'ai comme marqueslapierre , sigma , fizik,kmc,gopro,petzl,victoria,xlc,bbb,fsa,vision,scott,northwave,sbb,wellgo,gravity,wtb,oldo,ktm,animal,ktm,sunnbmc,camelbak,bbbcyling,magura,zesty,geax,kona,sr suntour,lazer,selle italiakenda,maxiscoot,schmolke,stevens,assos,stronglight, bergamont,canyonschwalbe,formula,fulcrum,rose,sram,haibike,time,thule,pearl lzumishimano,smp,cube,parktool,truvativ,rockshox,avid,camelbeak,assosendura,felt,michelin,continental,bmc, osprey , flyracing,evocc'est stickers sont parfait pour le cadre la fourche est les roues de votre vtt ou vélo.veuillez me contacter par mail pour je vous passe un lien pour voir mes stickersje vends par numéro de planche pour 3€.5€,7€ et 10€j'ai 239 de numéros de planches avec des stickersPROMO si vous prenez 2 numéros de planches a 5€ la 3éme planches offerte donc pour 10€ 3 planches\n",
      "Téléchargement de http://www.leboncoin.fr/velos/1346713980.htm?ca=12_s\n",
      "Déstockage sur toute la gamme route lapierre 2017 sous réserve de disponibilité.Pour plus de renseignement nous contacter au 01.64.94.02.71\n",
      "Téléchargement de http://www.leboncoin.fr/sports_hobbies/1354744426.htm?ca=12_s\n",
      "Bonjour, je vends un vélo d’appartement NEUF. Il est très pratique niveau rangement.\n",
      "Téléchargement de http://www.leboncoin.fr/velos/1354743778.htm?ca=12_s\n",
      "Siège bébé vélo DécathlonFixation sur porte bagage - simpleConvient aux enfants de 9 mois à 4/5 ans et de moins de 22 kg.Sangles épaules et repose-pieds à réglage rapideÉtat neuf\n",
      "Téléchargement de http://www.leboncoin.fr/velos/1354743691.htm?ca=12_s\n",
      "Vélo reine des neiges pour enfant de 2 à 4/5 ans. Petites roues fournies avec le vélo.\n",
      "Téléchargement de http://www.leboncoin.fr/sports_hobbies/1006832491.htm?ca=12_s\n",
      "Bonjour voici un CASQUE DE VELO TAILLE M 52 57 cm .  En bon état. Petit prix. Paiement en chèque UNIQUEMENT.  Remise en main propre à mon domicile sinon envoi  par colissimo ou en relais\n",
      "Téléchargement de http://www.leboncoin.fr/velos/1354743187.htm?ca=12_s\n",
      "VTC B-TWIN 500 neuf à vendre (jamais utilisé) + gilet visibilité + casque vélo 500 + panier métal avant + béquille adulte\n",
      "Téléchargement de http://www.leboncoin.fr/velos/1354742966.htm?ca=12_s\n",
      "Velo NEUF enfant 20 poucesPour enfant de 7 a 9 ansA récupérer sur place\n",
      "Téléchargement de http://www.leboncoin.fr/velos/1354742809.htm?ca=12_s\n",
      "vend deux vélo le bleu neuf et l autre très bon état ...\n"
     ]
    },
    {
     "data": {
      "text/plain": [
       "\"\\nTâches:\\n- pour chaque item, ouvrir l'annonce correspondante\\n- extraire la valeur de '.line.properties_description' l'annonce\\n\""
      ]
     },
     "execution_count": 6,
     "metadata": {},
     "output_type": "execute_result"
    }
   ],
   "source": [
    "# %load 29_nested.py\n",
    "\n",
    "from urllib import request\n",
    "# Si BeautifulSoup n'est pas installé: pip install beautifulsoup4\n",
    "from bs4 import BeautifulSoup\n",
    "\n",
    "base = \"https://www.leboncoin.fr/_loisirs_/offres/ile_de_france/?th=1&q=v%E9lo&o=\"\n",
    "\n",
    "def fetch_ad(url):\n",
    "    # On ouvre l'autre URL et on stock le resultat dans body\n",
    "    body = request.urlopen(url).read()\n",
    "    # Parse le HTML avec Beautiful Soup\n",
    "    soup = BeautifulSoup(body, 'html.parser')\n",
    "    \n",
    "    print( soup.select_one('.line.properties_description').text.strip() )\n",
    "    \n",
    "\n",
    "def fetch_list(page = 1):\n",
    "    # On ouvre l'autre URL et on stock le resultat dans body\n",
    "    body = request.urlopen(base + str(page)).read()\n",
    "    # Parse le HTML avec Beautiful Soup\n",
    "    soup = BeautifulSoup(body, 'html.parser')\n",
    "    # Tous les éléments de la liste\n",
    "    for list_item in soup.select(\".list_item\"):\n",
    "        # Seulement les annonces avec un prix\n",
    "        if list_item.section.h3 != None:\n",
    "            url = list_item['href']\n",
    "            # L'URL sur Le Bon Coin ne contient pas le protocol\n",
    "            url = url if url.startswith(\"http\") else \"http:%s\" % url\n",
    "            # On affiche dans la console la procédure en cours\n",
    "            print(u\"Téléchargement de %s\" % url)\n",
    "            # On appelle ici l'autre fonction pour télécharger une annonce\n",
    "            fetch_ad(url)\n",
    "\n",
    "fetch_list(1)\n",
    "\n",
    "\"\"\"\n",
    "Tâches:\n",
    "- pour chaque item, ouvrir l'annonce correspondante\n",
    "- extraire la valeur de '.line.properties_description' l'annonce\n",
    "\"\"\"\n"
   ]
  }
 ],
 "metadata": {
  "kernelspec": {
   "display_name": "Python 3",
   "language": "python",
   "name": "python3"
  },
  "language_info": {
   "codemirror_mode": {
    "name": "ipython",
    "version": 3
   },
   "file_extension": ".py",
   "mimetype": "text/x-python",
   "name": "python",
   "nbconvert_exporter": "python",
   "pygments_lexer": "ipython3",
   "version": "3.6.3"
  }
 },
 "nbformat": 4,
 "nbformat_minor": 2
}
