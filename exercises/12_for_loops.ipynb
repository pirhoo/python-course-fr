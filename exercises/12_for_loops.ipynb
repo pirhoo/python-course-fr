{
 "cells": [
  {
   "cell_type": "code",
   "execution_count": 8,
   "metadata": {},
   "outputs": [
    {
     "name": "stdout",
     "output_type": "stream",
     "text": [
      "Nos compteurs ont été mis à 0\n",
      "6 sur 8 politiciens ont un nom long.\n",
      "2 sur 8 politiciens ont un nom courts.\n"
     ]
    }
   ],
   "source": [
    "# %load 12_for_loops.py\n",
    "\n",
    "politicians = [\n",
    "    \"Marie-Do AESCHLIMANN\",\n",
    "    \"Samira AIDOUD\",\n",
    "    \"Magali ALEXANDRE\",\n",
    "    \"Mathilde ANDROUËT\",\n",
    "    \"Clémentine AUTAIN\",\n",
    "    \"Nadège AZZAZ\",\n",
    "    \"Marie-Pierre BADRÉ\",\n",
    "    \"Charlotte BAELDE\"\n",
    "]\n",
    "\n",
    "\"\"\"\n",
    "Tâches:\n",
    "Utilisez la fonction len(), qui s'applique aux chaînes et aux listes,\n",
    "afin de déterminer combien de politicien ont des noms longs ou courts.\n",
    "\"\"\"\n",
    "\n",
    "long_names = 0\n",
    "short_names = 0\n",
    "total_names = len(politicians)\n",
    "\n",
    "print(\"Nos compteurs ont été mis à 0\")\n",
    "\n",
    "for name in politicians:\n",
    "    if len(name) > 14:\n",
    "        long_names = long_names + 1\n",
    "    else:\n",
    "        short_names = short_names + 1\n",
    "\n",
    "print(\"%s sur %s politiciens ont un nom long.\" % (long_names, total_names))\n",
    "print(\"%s sur %s politiciens ont un nom courts.\" % (short_names, total_names))\n"
   ]
  },
  {
   "cell_type": "code",
   "execution_count": null,
   "metadata": {
    "collapsed": true
   },
   "outputs": [],
   "source": []
  }
 ],
 "metadata": {
  "kernelspec": {
   "display_name": "Python 3",
   "language": "python",
   "name": "python3"
  },
  "language_info": {
   "codemirror_mode": {
    "name": "ipython",
    "version": 3
   },
   "file_extension": ".py",
   "mimetype": "text/x-python",
   "name": "python",
   "nbconvert_exporter": "python",
   "pygments_lexer": "ipython3",
   "version": "3.6.3"
  }
 },
 "nbformat": 4,
 "nbformat_minor": 2
}
