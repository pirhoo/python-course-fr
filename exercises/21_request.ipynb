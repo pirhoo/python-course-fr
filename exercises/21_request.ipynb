{
 "cells": [
  {
   "cell_type": "code",
   "execution_count": 20,
   "metadata": {},
   "outputs": [],
   "source": [
    "# %load 21_request.py\n",
    "\n",
    "from urllib import request\n",
    "\n",
    "# URL de la page à ouvrir\n",
    "url = 'https://api.ipify.org'\n",
    "\n",
    "\n",
    "# On ouvre l'URL et on stock le resultat dans response\n",
    "response = request.urlopen(url)\n",
    "# Pour lire le contenu de la page, on utilise 'read()'\n",
    "text = response.read()\n",
    "\n",
    "\n"
   ]
  },
  {
   "cell_type": "code",
   "execution_count": null,
   "metadata": {
    "collapsed": true
   },
   "outputs": [],
   "source": []
  }
 ],
 "metadata": {
  "kernelspec": {
   "display_name": "Python 3",
   "language": "python",
   "name": "python3"
  },
  "language_info": {
   "codemirror_mode": {
    "name": "ipython",
    "version": 3
   },
   "file_extension": ".py",
   "mimetype": "text/x-python",
   "name": "python",
   "nbconvert_exporter": "python",
   "pygments_lexer": "ipython3",
   "version": "3.6.3"
  }
 },
 "nbformat": 4,
 "nbformat_minor": 2
}
