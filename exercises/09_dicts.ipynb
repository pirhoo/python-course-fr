{
 "cells": [
  {
   "cell_type": "code",
   "execution_count": 4,
   "metadata": {},
   "outputs": [
    {
     "name": "stdout",
     "output_type": "stream",
     "text": [
      "{'unemployment_2009': 4.0, 'unemployment_2014': 5.1, 'evolution_rate': 0.2749999999999999}\n"
     ]
    }
   ],
   "source": [
    "# %load 09_dicts.py\n",
    "\n",
    "stockholm = {\n",
    "    'unemployment_2009': 4.0,\n",
    "    'unemployment_2014': 5.1\n",
    "}\n",
    "\n",
    "solna = {\n",
    "    'unemployment_2009': 2.7,\n",
    "    'unemployment_2014': 4.1\n",
    "}\n",
    "\n",
    "\"\"\"\n",
    "Tâches:\n",
    "- donnez à Stockholm et Solna une nouvelle propriété appellée \"evolution_rate\"\n",
    "- calculez les taux d'évolution en utilisant les autres propriétés\n",
    "\"\"\"\n",
    "stockholm['evolution_rate'] = (stockholm['unemployment_2014'] - stockholm['unemployment_2009']) / stockholm['unemployment_2009']\n",
    "print(stockholm)\n"
   ]
  }
 ],
 "metadata": {
  "kernelspec": {
   "display_name": "Python 3",
   "language": "python",
   "name": "python3"
  },
  "language_info": {
   "codemirror_mode": {
    "name": "ipython",
    "version": 3
   },
   "file_extension": ".py",
   "mimetype": "text/x-python",
   "name": "python",
   "nbconvert_exporter": "python",
   "pygments_lexer": "ipython3",
   "version": "3.6.3"
  }
 },
 "nbformat": 4,
 "nbformat_minor": 2
}
