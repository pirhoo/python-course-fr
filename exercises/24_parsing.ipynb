{
 "cells": [
  {
   "cell_type": "code",
   "execution_count": null,
   "metadata": {
    "collapsed": true
   },
   "outputs": [],
   "source": [
    "# %load 24_parsing.py\n",
    "\n",
    "import urllib2\n",
    "# Si BeautifulSoup n'est pas installé: pip install beautifulsoup4\n",
    "from bs4 import BeautifulSoup\n",
    "\n",
    "\"\"\"\n",
    "Tâches:\n",
    "- obtenir votre IP avec apify\n",
    "- utiliser cette IP pour obtenir plus d'info sur freegeoip\n",
    "- afficher une phrase \"L'ip %s est localisé en %s\"\n",
    "\"\"\"\n"
   ]
  }
 ],
 "metadata": {
  "kernelspec": {
   "display_name": "Python 3",
   "language": "python",
   "name": "python3"
  },
  "language_info": {
   "codemirror_mode": {
    "name": "ipython",
    "version": 3
   },
   "file_extension": ".py",
   "mimetype": "text/x-python",
   "name": "python",
   "nbconvert_exporter": "python",
   "pygments_lexer": "ipython3",
   "version": "3.6.3"
  }
 },
 "nbformat": 4,
 "nbformat_minor": 2
}
