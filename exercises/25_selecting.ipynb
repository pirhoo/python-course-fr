{
 "cells": [
  {
   "cell_type": "code",
   "execution_count": 3,
   "metadata": {},
   "outputs": [
    {
     "name": "stdout",
     "output_type": "stream",
     "text": [
      "Velo slada ikea neuf en carton\n",
      "velo de sport maison\n",
      "Vélo d'appartement Domyos\n",
      "Appartement 45m2\n",
      "velo 13 pouces dora\n",
      "Vélo 24\"\n",
      "Vélo VTT\n",
      "Bianchi chopper\n",
      "Divers meubles , appareil , vêtements\n",
      "Vélo de 4 mois\n",
      "Porte velo 4\n",
      "Vélo d'appartement Domyos\n",
      "Velo course motobecane\n",
      "Velo fille\n",
      "Vélo de ville PEUGEOT vintage\n",
      "Velo Bianchi \"Campione del Mundo\"\n",
      "Vélo 16\n",
      "Olmo \"mexico\" (campagnolo)\n",
      "Siege Bébé sur cadre 500 GRIS B'TWIN\n",
      "Velo Peugeot mixte (TBE)\n",
      "Velo de marque gitane\n",
      "Velo vtt 20 pouces\n",
      "Maison 5 pièces 91 m²\n",
      "Trotinette Electrique 1000 watts\n",
      "Vélo d,appartement pliable\n",
      "Sac Balanciaga\n",
      "Vélo fille 16 pouces B'twin Pricess DECATHLON\n",
      "Casque vélo enfant 46-52cm\n",
      "Sous-location - résidence studio meublé + parking\n",
      "Petit Déménagement et Transport en GROUPAGE\n",
      "cadre taille 58\n",
      "support vélo norauto\n",
      "Vélo VTT\n",
      "CHAUSSURES vélo route pointure 45\n",
      "Velo 5-8ans avec roulettes amovibles\n",
      "3 pièces Houilles Les Blanches\n",
      "Grand Studio Marais\n",
      "ZILL kit alimentation magnétique scooter et moto\n"
     ]
    },
    {
     "data": {
      "text/plain": [
       "\"\\nTâches:\\n- obtenir une liste d'annonces de vélos en faisant une recherche sur le bon coin\\n- les titres des annonces peuvent être trouvés avec le selecteur CSS '.item_title'\\n\""
      ]
     },
     "execution_count": 3,
     "metadata": {},
     "output_type": "execute_result"
    }
   ],
   "source": [
    "# %load 25_selecting.py\n",
    "\n",
    "from urllib import request\n",
    "# Si BeautifulSoup n'est pas installé: pip install beautifulsoup4\n",
    "from bs4 import BeautifulSoup\n",
    "\n",
    "base = \"https://www.leboncoin.fr/annonces/offres/ile_de_france/?th=1&q=v%E9lo\"\n",
    "# On ouvre l'autre URL et on stock le resultat dans body\n",
    "body = request.urlopen(base).read()\n",
    "# Parse le HTML avec Beautiful Soup\n",
    "soup = BeautifulSoup(body, 'html.parser')\n",
    "\n",
    "# Liste des titres avec un selecteur CSS\n",
    "titles = soup.select(\".item_title\")\n",
    "\n",
    "for title in titles:\n",
    "    # La fonction 'strip()' permet de supprimer les espaces avant et après un texte\n",
    "    print(title.text.strip())\n",
    "\n",
    "\n",
    "\"\"\"\n",
    "Tâches:\n",
    "- obtenir une liste d'annonces de vélos en faisant une recherche sur le bon coin\n",
    "- les titres des annonces peuvent être trouvés avec le selecteur CSS '.item_title'\n",
    "\"\"\"\n"
   ]
  },
  {
   "cell_type": "code",
   "execution_count": null,
   "metadata": {
    "collapsed": true
   },
   "outputs": [],
   "source": []
  }
 ],
 "metadata": {
  "kernelspec": {
   "display_name": "Python 3",
   "language": "python",
   "name": "python3"
  },
  "language_info": {
   "codemirror_mode": {
    "name": "ipython",
    "version": 3
   },
   "file_extension": ".py",
   "mimetype": "text/x-python",
   "name": "python",
   "nbconvert_exporter": "python",
   "pygments_lexer": "ipython3",
   "version": "3.6.3"
  }
 },
 "nbformat": 4,
 "nbformat_minor": 2
}
