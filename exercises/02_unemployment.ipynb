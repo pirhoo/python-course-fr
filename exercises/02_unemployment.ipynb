{
 "cells": [
  {
   "cell_type": "code",
   "execution_count": null,
   "metadata": {
    "collapsed": true
   },
   "outputs": [],
   "source": [
    "# %load 10_unemployment.py\n",
    "\n",
    "population = 6058.1  # En milliers\n",
    "unemployed = 424.8\n",
    "not_in_labor = 986.6\n",
    "employed = 4646.6\n",
    "\n",
    "\"\"\"\n",
    "Tâches:\n",
    "* Calculez le pourcentage de personne employées sur la population total\n",
    "* Calculez le taux de chomeur, c.a.d. pourcentage de personne employées sur la population active\n",
    "\"\"\"\n"
   ]
  },
  {
   "cell_type": "code",
   "execution_count": null,
   "metadata": {
    "collapsed": true
   },
   "outputs": [],
   "source": []
  }
 ],
 "metadata": {
  "kernelspec": {
   "display_name": "Python 3",
   "language": "python",
   "name": "python3"
  },
  "language_info": {
   "codemirror_mode": {
    "name": "ipython",
    "version": 3
   },
   "file_extension": ".py",
   "mimetype": "text/x-python",
   "name": "python",
   "nbconvert_exporter": "python",
   "pygments_lexer": "ipython3",
   "version": "3.6.3"
  }
 },
 "nbformat": 4,
 "nbformat_minor": 2
}
