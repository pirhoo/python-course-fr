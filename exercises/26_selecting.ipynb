{
 "cells": [
  {
   "cell_type": "code",
   "execution_count": 22,
   "metadata": {
    "scrolled": false
   },
   "outputs": [
    {
     "name": "stdout",
     "output_type": "stream",
     "text": [
      "Velo BMX 20 pouce,40 €,http://www.leboncoin.fr/velos/1350980580.htm?ca=12_s\n",
      "Maillot cycliste vintage THEO Boulogne,30 €,http://www.leboncoin.fr/sports_hobbies/1347222081.htm?ca=12_s\n",
      "Vélo randonneuse , artisan cadreur DUTRION,150 €,http://www.leboncoin.fr/velos/1354731371.htm?ca=12_s\n",
      "vélo d'intérieur cycling BH SB2.0,290 €,http://www.leboncoin.fr/velos/1354731314.htm?ca=12_s\n",
      "Velo electrique Giant aspiro taille S quasi neuf,850 €,http://www.leboncoin.fr/velos/1188576916.htm?ca=12_s\n",
      "Vélo d'appartement,50 €,http://www.leboncoin.fr/sports_hobbies/1354730794.htm?ca=12_s\n",
      "Chaise haute pour vélo,25 €,http://www.leboncoin.fr/velos/1354730620.htm?ca=12_s\n",
      "Vélo demi course PEUGEOT,150 €,http://www.leboncoin.fr/velos/1354729324.htm?ca=12_s\n",
      "Camion smoby,15 €,http://www.leboncoin.fr/jeux_jouets/1176160488.htm?ca=12_s\n",
      "Vélo elliptique Domyos 06 Essential +,90 €,http://www.leboncoin.fr/sports_hobbies/1354728465.htm?ca=12_s\n",
      "Vélo enfant décathlon 16 pouces etat neuf: 45€,45 €,http://www.leboncoin.fr/velos/1354727837.htm?ca=12_s\n",
      "Vélo demi course PEUGEOT , très bon état,150 €,http://www.leboncoin.fr/velos/1354727531.htm?ca=12_s\n",
      "Lot de deux vélo,180 €,http://www.leboncoin.fr/velos/1354727478.htm?ca=12_s\n",
      "Siège bebé/enfant velo YEPP MAXI,100 €,http://www.leboncoin.fr/velos/1354726458.htm?ca=12_s\n",
      "KIT de PROTECTIONS Roller/Vélo...,15 €,http://www.leboncoin.fr/sports_hobbies/1354726312.htm?ca=12_s\n",
      "Vélo de course MBK , très léger,180 €,http://www.leboncoin.fr/velos/1354725701.htm?ca=12_s\n",
      "Vélo Btwin 16 pouces Princess,35 €,http://www.leboncoin.fr/velos/1354725155.htm?ca=12_s\n",
      "Beau casque de ski roxy taille M,20 €,http://www.leboncoin.fr/sports_hobbies/1320470994.htm?ca=12_s\n",
      "Vélo Ville Hollandais Altra,270 €,http://www.leboncoin.fr/velos/1320442121.htm?ca=12_s\n",
      "Vélo bon été,250 €,http://www.leboncoin.fr/velos/1354722971.htm?ca=12_s\n",
      "VTT,60 €,http://www.leboncoin.fr/velos/1354722885.htm?ca=12_s\n",
      "PORTE BOUTEILLES vintage Années 1950 1960 JAUNE,5 €,http://www.leboncoin.fr/collection/1176407886.htm?ca=12_s\n",
      "Vélo et trottinette spiderman 3 à 6 ans,25 €,http://www.leboncoin.fr/velos/1320349315.htm?ca=12_s\n",
      "Velo Btwin 3-5 ans 14 pouces Aqua,30 €,http://www.leboncoin.fr/velos/1354722237.htm?ca=12_s\n",
      "Vélo elliptique de marque David Douillet,45 €,http://www.leboncoin.fr/sports_hobbies/1354721983.htm?ca=12_s\n",
      "Bocal a bonbon friandises vintage annees 60 70,4 €,http://www.leboncoin.fr/collection/1176415548.htm?ca=12_s\n",
      "Btwin original rose 26\" + panier,145 €,http://www.leboncoin.fr/velos/1354720481.htm?ca=12_s\n",
      "Velo fille 20 pouces b'twin,65 €,http://www.leboncoin.fr/velos/1354483665.htm?ca=12_s\n",
      "Velo slada ikea neuf en carton,250 €,http://www.leboncoin.fr/velos/1354718820.htm?ca=12_s\n",
      "velo de sport maison,10 €,http://www.leboncoin.fr/velos/1354718265.htm?ca=12_s\n",
      "Vélo d'appartement Domyos,150 €,http://www.leboncoin.fr/sports_hobbies/1354717846.htm?ca=12_s\n",
      "velo 13 pouces dora,15 €,http://www.leboncoin.fr/velos/1149458729.htm?ca=12_s\n",
      "Vélo 24\",60 €,http://www.leboncoin.fr/velos/1354717634.htm?ca=12_s\n",
      "Vélo VTT,65 €,http://www.leboncoin.fr/velos/1354717597.htm?ca=12_s\n",
      "Bianchi chopper,450 €,http://www.leboncoin.fr/velos/1354717551.htm?ca=12_s\n"
     ]
    }
   ],
   "source": [
    "# %load 26_selecting.py\n",
    "\n",
    "from urllib import request\n",
    "# Si BeautifulSoup n'est pas installé: pip install beautifulsoup4\n",
    "from bs4 import BeautifulSoup\n",
    "\n",
    "base = \"https://www.leboncoin.fr/_loisirs_/offres/ile_de_france/?th=1&q=v%E9lo\"\n",
    "# On ouvre l'autre URL et on stock le resultat dans body\n",
    "body = request.urlopen(base).read()\n",
    "# Parse le HTML avec Beautiful Soup\n",
    "soup = BeautifulSoup(body, 'html.parser')\n",
    "# Tous les éléments de la liste\n",
    "list_items = soup.select(\".list_item\")\n",
    "\n",
    "for list_item in list_items:\n",
    "    # L'élément h3 contient le prix, on affiche uniquement les annonce avec un prix\n",
    "    if list_item.section.h3 != None:\n",
    "        title = list_item.section.h2.text.strip() \n",
    "        prix  = list_item.section.h3.text.strip()\n",
    "        lien  = 'http:' + list_item['href']\n",
    "        \n",
    "        print(u\"%s,%s,%s\" % (title, prix, lien))"
   ]
  },
  {
   "cell_type": "code",
   "execution_count": null,
   "metadata": {
    "collapsed": true
   },
   "outputs": [],
   "source": []
  }
 ],
 "metadata": {
  "kernelspec": {
   "display_name": "Python 3",
   "language": "python",
   "name": "python3"
  },
  "language_info": {
   "codemirror_mode": {
    "name": "ipython",
    "version": 3
   },
   "file_extension": ".py",
   "mimetype": "text/x-python",
   "name": "python",
   "nbconvert_exporter": "python",
   "pygments_lexer": "ipython3",
   "version": "3.6.3"
  }
 },
 "nbformat": 4,
 "nbformat_minor": 2
}
